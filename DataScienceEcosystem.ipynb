{
    "cells": [
        {
            "cell_type": "markdown",
            "metadata": {},
            "source": [
                "# Data Science Tools and Ecosystem\n",
                "\n"
            ]
        },
        {
            "cell_type": "markdown",
            "metadata": {},
            "source": [
                "## Exercise 2 - Notebook Title\n",
                "# Data Science Tools and Ecosystem\n"
            ]
        },
        {
            "cell_type": "markdown",
            "metadata": {},
            "source": [
                "## Exercise 3 - Introduction\n",
                "In this notebook, Data Science Tools and Ecosystem are summarized.\n"
            ]
        },
        {
            "cell_type": "markdown",
            "metadata": {},
            "source": [
                "## Exercise 4 - List of Data Science Languages\n",
                "Some of the popular languages that Data Scientists use are:\n",
                "1. Python\n",
                "2. R\n",
                "3. SQL\n",
                "4. Julia\n"
            ]
        },
        {
            "cell_type": "markdown",
            "metadata": {},
            "source": [
                "## Exercise 5 - List of Data Science Libraries\n",
                "Some of the commonly used libraries used by Data Scientists include:\n",
                "1. Pandas\n",
                "2. NumPy\n",
                "3. Matplotlib\n",
                "4. Scikit-learn\n"
            ]
        },
        {
            "cell_type": "markdown",
            "metadata": {},
            "source": [
                "## Exercise 6 - Table of Data Science Tools\n",
                "| Data Science Tools         |\n",
                "|----------------------------|\n",
                "| Jupyter                    |\n",
                "| RStudio                    |\n",
                "| Apache Spark               |\n"
            ]
        },
        {
            "cell_type": "markdown",
            "metadata": {},
            "source": [
                "## Exercise 7 - Arithmetic Expression Examples\n",
                "### Below are a few examples of evaluating arithmetic expressions in Python.\n"
            ]
        },
        {
            "cell_type": "code",
            "execution_count": null,
            "metadata": {},
            "outputs": [],
            "source": [
                "# This is a simple arithmetic expression to multiply and then add integers\n",
                "(3*4)+5\n"
            ]
        },
        {
            "cell_type": "code",
            "execution_count": null,
            "metadata": {},
            "outputs": [],
            "source": [
                "# This will convert 200 minutes to hours by dividing by 60\n",
                "200 / 60\n"
            ]
        },
        {
            "cell_type": "markdown",
            "metadata": {},
            "source": [
                "## Exercise 10 - Objectives\n",
                "**Objectives:**\n",
                "- List popular languages for Data Science\n",
                "- List commonly used libraries in Data Science\n",
                "- Demonstrate arithmetic operations in Python\n"
            ]
        },
        {
            "cell_type": "markdown",
            "metadata": {},
            "source": [
                "## Exercise 11 - Author\n",
                "## Author\n",
                "Vinicius Siqueira\n"
            ]
        }
    ],
    "metadata": {
        "language_info": {
            "name": "python"
        }
    },
    "nbformat": 4,
    "nbformat_minor": 4
}
